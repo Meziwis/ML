{
 "cells": [
  {
   "cell_type": "markdown",
   "metadata": {},
   "source": [
    "# Detección de gatos con cascada en opencv\n",
    "Dentro de las cascadas prehechas con opencv, encontramos el archivo haarcascade_frontalcatface.xml, el cual nos permite reconocer y encuadrar los rostros de gatos.\n",
    "\n",
    "## Comenzando\n",
    "\n",
    "### Prerequisitos\n",
    "\n",
    "Necesitamos:\n",
    "\n",
    "* Python: Fue installado en conjunto a Anaconda\n",
    "* OpenCV: Dentro de Anaconda prompt (aplicación que se instala al instalar Anaconda) escribiremos lo siguiente: *pip install opencv-python*\n",
    "\n",
    "## Para ejecutar \n",
    "\n",
    "1. Descargue la carpeta adjunta e ingrese a la misma a través de Anaconda prompt.\n",
    "\n",
    "2. ejecute:\n",
    "```\n",
    "python cat_detector.py -i images/cat_03.jpg\n",
    "```\n",
    "\n",
    "En este caso se utiliza la foto cat_03.jpg, puede reemplazar esto para distintas fotos de gatos.\n",
    "\n",
    "## Uso\n",
    "\n",
    "```\n",
    "python cat_detector.py -i \"ruta_a_la_imagen\" -c \"ruta_a_la_cascada\"\n",
    "```\n",
    "Solo la ruta a la imagen es obligatoria."
   ]
  },
  {
   "cell_type": "markdown",
   "metadata": {},
   "source": [
    "### Ahora veremos que contiene el archivo cat_detector.py e iremos paso a paso sobre el mismo\n",
    "\n",
    "Dentro encontramos: \n"
   ]
  },
  {
   "cell_type": "markdown",
   "metadata": {},
   "source": [
    "### Las bibliotecas o paquetes que utilizaremos:\n",
    "\n",
    "\n",
    "* argparse: Nos permite añadir información adicional al código al momento de ejecutarlo\n",
    "* cv2: Se refiere a opencv y será el encargado de dejarnos trabajar con imagenes (cargarlas, modificarlas, escribir sobre ellas,etc.)\n"
   ]
  },
  {
   "cell_type": "code",
   "execution_count": null,
   "metadata": {},
   "outputs": [],
   "source": [
    "import argparse\n",
    "import cv2"
   ]
  },
  {
   "cell_type": "markdown",
   "metadata": {},
   "source": [
    "### Ahora viene donde controlaremos que imagen queremos clasificar y que cascada utilizaresmos:"
   ]
  },
  {
   "cell_type": "code",
   "execution_count": null,
   "metadata": {},
   "outputs": [],
   "source": [
    "# El primer argumento nos deja elegir la imagen que clasificaremos\n",
    "# Tambien añadiremos un parametro de ayuda para facilitar su uso (opcional)\n",
    "ap = argparse.ArgumentParser()\n",
    "ap.add_argument(\"-i\", \"--image\", required=True,\n",
    "    help=\"dirección a la imagen de entrada\")\n",
    "\n",
    "# El segundo argumento nos deja elegir la cascada que utilizaremos\n",
    "#Por defecto utilizaremos haarcascade_frontalface.xml, pero sientance libres de buscar otras y experimentar\n",
    "ap.add_argument(\"-c\", \"--cascade\",\n",
    "    default=\"haarcascade_frontalcatface.xml\",\n",
    "    help=\"dirección a la cascada a utilizar\")\n",
    "\n",
    "# Por último guardamos los argumentos dentro de args\n",
    "args = vars(ap.parse_args())"
   ]
  },
  {
   "cell_type": "markdown",
   "metadata": {},
   "source": [
    "### Ahora leeremos la imagen, la guardaremos y convertiremos a escala de grices."
   ]
  },
  {
   "cell_type": "code",
   "execution_count": null,
   "metadata": {},
   "outputs": [],
   "source": [
    "image = cv2.imread(args[\"image\"])\n",
    "gray = cv2.cvtColor(image, cv2.COLOR_BGR2GRAY)"
   ]
  },
  {
   "cell_type": "markdown",
   "metadata": {},
   "source": [
    "\n",
    "### Ahora cargaremos nuestra cascada, y luego detectaremos la cara del gato en nuestra imagen *(nótese que la imagen esta almacenada en \"gray\")*\n"
   ]
  },
  {
   "cell_type": "code",
   "execution_count": null,
   "metadata": {},
   "outputs": [],
   "source": [
    "detector = cv2.CascadeClassifier(args[\"cascade\"])\n",
    "rects = detector.detectMultiScale(gray, scaleFactor=1.3,\n",
    "    minNeighbors=10, minSize=(75, 75))"
   ]
  },
  {
   "cell_type": "markdown",
   "metadata": {},
   "source": [
    "### Ahora recorreremos la imagen original del gato (a color) y pondremos un rectangulo en los puntos que nos dió el detector y que almacenamos en rects:"
   ]
  },
  {
   "cell_type": "code",
   "execution_count": null,
   "metadata": {},
   "outputs": [],
   "source": [
    "for (i, (x, y, w, h)) in enumerate(rects):\n",
    "    cv2.rectangle(image, (x, y), (x + w, y + h), (0, 0, 255), 2)\n",
    "    cv2.putText(image, \"Gato #{}\".format(i + 1), (x, y - 10),\n",
    "        cv2.FONT_HERSHEY_SIMPLEX, 0.55, (0, 0, 255), 2)"
   ]
  },
  {
   "cell_type": "markdown",
   "metadata": {},
   "source": [
    "### Para finalizar crearemos la imagen de resultado y además crearemos  una ventana donde mostraremos la foto post procesamiento."
   ]
  },
  {
   "cell_type": "code",
   "execution_count": null,
   "metadata": {},
   "outputs": [],
   "source": [
    "cv2.imwrite('result.jpg', image)\n",
    "# Mostrar caras detectadas\n",
    "cv2.imshow(\"Cat Faces demo\", image)\n",
    "cv2.waitKey(0)\n",
    "cv2.destroyAllWindows()"
   ]
  }
 ],
 "metadata": {
  "kernelspec": {
   "display_name": "Python 3",
   "language": "python",
   "name": "python3"
  },
  "language_info": {
   "codemirror_mode": {
    "name": "ipython",
    "version": 3
   },
   "file_extension": ".py",
   "mimetype": "text/x-python",
   "name": "python",
   "nbconvert_exporter": "python",
   "pygments_lexer": "ipython3",
   "version": "3.6.4"
  }
 },
 "nbformat": 4,
 "nbformat_minor": 2
}
